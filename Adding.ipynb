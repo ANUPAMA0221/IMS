{
  "nbformat": 4,
  "nbformat_minor": 0,
  "metadata": {
    "colab": {
      "name": "Adding.ipynb",
      "provenance": [],
      "collapsed_sections": [],
      "toc_visible": true
    },
    "kernelspec": {
      "name": "python3",
      "display_name": "Python 3"
    },
    "language_info": {
      "name": "python"
    }
  },
  "cells": [
    {
      "cell_type": "markdown",
      "metadata": {
        "id": "8I6gril3T8gj"
      },
      "source": [
        "Creating the Dataset"
      ]
    },
    {
      "cell_type": "code",
      "metadata": {
        "id": "r5c54Zl-NVr7",
        "colab": {
          "base_uri": "https://localhost:8080/"
        },
        "outputId": "be40e2bd-507f-4238-a615-379eb77e2933"
      },
      "source": [
        "record = {'1001': {'name': 'wafer', 'pr': 20, 'qn': 1000},\n",
        "              '1002': {'name': 'Drink', 'pr': 85, 'qn': 200},\n",
        "              '1003': {'name': 'Candy', 'pr': 5, 'qn': 1000},\n",
        "              '1004': {'name': 'brown rice', 'pr': 2000, 'qn': 300},\n",
        "              '1005': {'name': 'pasta', 'pr': 200, 'qn': 100},\n",
        "              '1006': {'name': 'eggs[dozen]', 'pr': 89, 'qn': 1000},\n",
        "              '1007': {'name': 'dark chocolate', 'pr': 599, 'qn': 500},\n",
        "              '1008': {'name': 'donut', 'pr': 150, 'qn': 300},\n",
        "              '1009': {'name': 'ice-cream', 'pr': 280, 'qn': 100},\n",
        "              '1010': {'name': 'shoes', 'pr': 2800, 'qn': 200},\n",
        "              '1011': {'name': 'clock', 'pr': 299, 'qn': 300},\n",
        "              '1012': {'name': 'almonds', 'pr': 299, 'qn': 50},\n",
        "              '1013': {'name': 'cake', 'pr': 300, 'qn': 100},\n",
        "              '1014': {'name': 'cookie', 'pr': 50, 'qn': 250},\n",
        "              '1015': {'name': 'milk', 'pr': 79, 'qn': 500},\n",
        "              '1016': {'name': 'cheese', 'pr': 299, 'qn': 450},\n",
        "              '1017': {'name': 'corn flakes', 'pr': 399, 'qn': 400},\n",
        "              '1018': {'name': 'bread', 'pr': 199, 'qn': 2000},\n",
        "              '1019': {'name': 'honey', 'pr': 200, 'qn': 59},\n",
        "              '1020': {'name': 'peanut butter', 'pr': 599},\n",
        "              '1021': {'name': 'coffee powder', 'pr': 150},\n",
        "              '1022': {'name': 'milk shake', 'pr': 69, 'qn': 2000},\n",
        "              '1023': {'name': 'lemonade', 'pr': 59, 'qn': 2000},\n",
        "              '1024': {'name': 'water bottle', 'pr': 29, 'qn': 2000},\n",
        "              '1025': {'name': 'Chocolate candy', 'pr': 19, 'qn': 1000},\n",
        "              '1026': {'name': 'candy bar', 'pr': 10, 'qn': 10000},\n",
        "              '1027': {'name': 'apple pie', 'pr': 199, 'qn': 500},\n",
        "              '1028': {'name': 'pizza', 'pr': 399, 'qn': 500},\n",
        "              '1029': {'name': 'pancake', 'pr': 295, 'qn': 40},\n",
        "              '1030': {'name': 'biscuits', 'pr': 25, 'qn': 1000}\n",
        "             }\n",
        "\n",
        "print(\"Dataset has been created\")"
      ],
      "execution_count": null,
      "outputs": [
        {
          "output_type": "stream",
          "name": "stdout",
          "text": [
            "Dataset has been created\n"
          ]
        }
      ]
    },
    {
      "cell_type": "markdown",
      "metadata": {
        "id": "cIrSRvcNTJi3"
      },
      "source": [
        "Adding the dataset to **record json file**\n"
      ]
    },
    {
      "cell_type": "code",
      "metadata": {
        "id": "nB3vludZNqDl"
      },
      "source": [
        "import json\n",
        "js = json.dumps(record)\n",
        "\n",
        "fd = open(\"record.json\",'w')\n",
        "fd.write(js)\n",
        "fd.close()"
      ],
      "execution_count": null,
      "outputs": []
    },
    {
      "cell_type": "markdown",
      "metadata": {
        "id": "uQJmic9_TqPB"
      },
      "source": [
        "Reading the json file"
      ]
    },
    {
      "cell_type": "code",
      "metadata": {
        "id": "70rmKCsPNz_T"
      },
      "source": [
        "fd = open(\"record.json\",'r')\n",
        "r = fd.read()\n",
        "fd.close()\n",
        "\n",
        "record = json.loads(r)"
      ],
      "execution_count": null,
      "outputs": []
    },
    {
      "cell_type": "markdown",
      "metadata": {
        "id": "GjXbzL9erahR"
      },
      "source": [
        "Importing **Req Libraries**"
      ]
    },
    {
      "cell_type": "code",
      "metadata": {
        "id": "HI4yaaQxo6zp"
      },
      "source": [
        "import pandas as pd\n",
        "from IPython.display import display"
      ],
      "execution_count": null,
      "outputs": []
    },
    {
      "cell_type": "markdown",
      "metadata": {
        "id": "81DB1PEhT4gS"
      },
      "source": [
        "**Access management**"
      ]
    },
    {
      "cell_type": "code",
      "metadata": {
        "id": "qUzTyOY-LSAZ",
        "colab": {
          "base_uri": "https://localhost:8080/"
        },
        "outputId": "c5f9ce46-cb5d-4bb8-8ce6-b4b39c8b4b2d"
      },
      "source": [
        "user_id,password_id = \"admin\",123\n",
        "\n",
        "role=input(\"Enter your role : \")\n",
        "if role==\"admin\" :\n",
        "    user=input(\"Enter Username : \")\n",
        "    password = int(input(\"Enter Password : \"))\n",
        "    while(True):\n",
        "      if ( user==user_id and password==password_id ):\n",
        "          print(\"You've successfully logged in as Admin\")\n",
        "          add_del=input(\"Do you want to add or delete : \")\n",
        "          if add_del == \"add\" :\n",
        "              prod_id = str(input(\"Enter product id: \"))\n",
        "              name = str(input(\"Enter name: \"))\n",
        "              pr = int(input(\"Enter price: \"))\n",
        "              qn = int(input(\"Enter quantity: \"))\n",
        "              record[prod_id] = {'name': name, 'pr': pr, 'qn': qn}\n",
        "              js_add = json.dumps(record)\n",
        "              fd = open(\"record.json\",'w')\n",
        "              fd.write(js_add)\n",
        "              fd.close()\n",
        "              print(\"Congratulations, you've successfully added the Item\")\n",
        "              break\n",
        "          elif add_del == \"delete\" :\n",
        "              ask_user = input(\"Do you want to view the Dataset? Enter Yes or No: \")\n",
        "              if(ask_user == \"Yes\"):\n",
        "                ds = pd.DataFrame(record)\n",
        "                print(\"The Record View : \")\n",
        "                display(ds.transpose())\n",
        "              elif(ask_user == \"No\"):\n",
        "                print(\"Okay, no issues\")\n",
        "              product_id = str(input(\"Enter product id: \"))\n",
        "              del record[product_id]\n",
        "              js_del = json.dumps(record)\n",
        "              fd = open(\"record.json\",'w')\n",
        "              fd.write(js_del)\n",
        "              fd.close()\n",
        "              print(\"You've successfully deleted the Item\")\n",
        "              break\n",
        "          else :\n",
        "              print(\"please enter valid Text..\")\n",
        "      else :\n",
        "        print(\"Invalid Credentials\")\n",
        "        break\n",
        "elif role==\"purchaser\":\n",
        "    print(\"Hello Purchaser\")\n",
        "    #print records using pandas to display the list of items\n",
        "    ask_purchaser = input(\"Do you want to view the Dataset? Enter Yes or No: \")\n",
        "    if(ask_purchaser == \"Yes\"):\n",
        "      ds = pd.DataFrame(record)\n",
        "      print(\"The Record View : \")\n",
        "      display(ds.transpose())\n",
        "    elif(ask_purchaser == \"No\"):\n",
        "      print(\"Okay, no issues\")\n",
        "    ui_prod  = str(input(\"Enter the product_Id of the item you want to purchase: \"))\n",
        "    ui_quant = int(input(\"Enter the quantity : \"))\n",
        "\n",
        "    print(\"***********************************\")\n",
        "    print(\"Product: \", record[ui_prod]['name'])\n",
        "    print(\"Price: \", record[ui_prod]['pr'])\n",
        "    print(\"***********************************\")\n",
        "    print(\"Billing Amount: \", record[ui_prod]['pr'] * ui_quant)\n",
        "\n",
        "    record[ui_prod]['qn'] = record[ui_prod]['qn'] - ui_quant\n",
        "    js = json.dumps(record)\n",
        "    fd = open(\"record.json\",'w')\n",
        "    fd.write(js)\n",
        "    fd.close()\n"
      ],
      "execution_count": null,
      "outputs": [
        {
          "output_type": "stream",
          "name": "stdout",
          "text": [
            "Enter your role : admin\n",
            "Enter Username : admin\n",
            "Enter Password : 123\n",
            "You've successfully logged in as Admin\n",
            "Do you want to add or delete : add\n",
            "Enter product id: 1032\n",
            "Enter name: Tropicana\n",
            "Enter price: 500\n",
            "Enter quantity: 15\n",
            "Congratulations, you've successfully added the Item\n"
          ]
        }
      ]
    }
  ]
}