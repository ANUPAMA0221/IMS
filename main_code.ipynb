{
  "nbformat": 4,
  "nbformat_minor": 2,
  "metadata": {
    "colab": {
      "name": "Adding.ipynb",
      "provenance": [],
      "collapsed_sections": [],
      "toc_visible": true
    },
    "kernelspec": {
      "name": "python3",
      "display_name": "Python 3.8.8 64-bit ('base': conda)"
    },
    "language_info": {
      "name": "python",
      "version": "3.8.8",
      "mimetype": "text/x-python",
      "codemirror_mode": {
        "name": "ipython",
        "version": 3
      },
      "pygments_lexer": "ipython3",
      "nbconvert_exporter": "python",
      "file_extension": ".py"
    },
    "interpreter": {
      "hash": "227a5deb54e3222ee56fd31d02883ee21258a3199640b0f92a56cdc9886f423a"
    }
  },
  "cells": [
    {
      "cell_type": "markdown",
      "source": [
        "Creating the Dataset"
      ],
      "metadata": {
        "id": "8I6gril3T8gj"
      }
    },
    {
      "cell_type": "code",
      "execution_count": 25,
      "source": [
        "record = {'1001': {'name': 'wafer', 'pr': 20, 'qn': 1000},\r\n",
        "              '1002': {'name': 'Drink', 'pr': 85, 'qn': 200},\r\n",
        "              '1003': {'name': 'Candy', 'pr': 5, 'qn': 1000},\r\n",
        "              '1004': {'name': 'brown rice', 'pr': 2000, 'qn': 300},\r\n",
        "              '1005': {'name': 'pasta', 'pr': 200, 'qn': 100},\r\n",
        "              '1006': {'name': 'eggs[dozen]', 'pr': 89, 'qn': 1000},\r\n",
        "              '1007': {'name': 'dark chocolate', 'pr': 599, 'qn': 500},\r\n",
        "              '1008': {'name': 'donut', 'pr': 150, 'qn': 300},\r\n",
        "              '1009': {'name': 'ice-cream', 'pr': 280, 'qn': 100},\r\n",
        "              '1010': {'name': 'shoes', 'pr': 2800, 'qn': 200},\r\n",
        "              '1011': {'name': 'clock', 'pr': 299, 'qn': 300},\r\n",
        "              '1012': {'name': 'almonds', 'pr': 299, 'qn': 50},\r\n",
        "              '1013': {'name': 'cake', 'pr': 300, 'qn': 100},\r\n",
        "              '1014': {'name': 'cookie', 'pr': 50, 'qn': 250},\r\n",
        "              '1015': {'name': 'milk', 'pr': 79, 'qn': 500},\r\n",
        "              '1016': {'name': 'cheese', 'pr': 299, 'qn': 450},\r\n",
        "              '1017': {'name': 'corn flakes', 'pr': 399, 'qn': 400},\r\n",
        "              '1018': {'name': 'bread', 'pr': 199, 'qn': 2000},\r\n",
        "              '1019': {'name': 'honey', 'pr': 200, 'qn': 59},\r\n",
        "              '1020': {'name': 'peanut butter', 'pr': 599, 'qn':200},\r\n",
        "              '1021': {'name': 'coffee powder', 'pr': 150, 'qn':400},\r\n",
        "              '1022': {'name': 'milk shake', 'pr': 69, 'qn': 2000},\r\n",
        "              '1023': {'name': 'lemonade', 'pr': 59, 'qn': 2000},\r\n",
        "              '1024': {'name': 'water bottle', 'pr': 29, 'qn': 2000},\r\n",
        "              '1025': {'name': 'Chocolate candy', 'pr': 19, 'qn': 1000},\r\n",
        "              '1026': {'name': 'candy bar', 'pr': 10, 'qn': 10000},\r\n",
        "              '1027': {'name': 'apple pie', 'pr': 199, 'qn': 500},\r\n",
        "              '1028': {'name': 'pizza', 'pr': 399, 'qn': 500},\r\n",
        "              '1029': {'name': 'pancake', 'pr': 295, 'qn': 40},\r\n",
        "              '1030': {'name': 'biscuits', 'pr': 25, 'qn': 1000}\r\n",
        "             }\r\n",
        "\r\n",
        "print(\"Dataset has been created\")"
      ],
      "outputs": [
        {
          "output_type": "stream",
          "name": "stdout",
          "text": [
            "Dataset has been created\n"
          ]
        }
      ],
      "metadata": {
        "id": "r5c54Zl-NVr7",
        "colab": {
          "base_uri": "https://localhost:8080/"
        },
        "outputId": "be40e2bd-507f-4238-a615-379eb77e2933"
      }
    },
    {
      "cell_type": "markdown",
      "source": [
        "Adding the dataset to **record json file**\n"
      ],
      "metadata": {
        "id": "cIrSRvcNTJi3"
      }
    },
    {
      "cell_type": "code",
      "execution_count": 26,
      "source": [
        "import json\r\n",
        "js = json.dumps(record)\r\n",
        "\r\n",
        "fd = open(\"record.json\",'w')\r\n",
        "fd.write(js)\r\n",
        "fd.close()"
      ],
      "outputs": [],
      "metadata": {
        "id": "nB3vludZNqDl"
      }
    },
    {
      "cell_type": "markdown",
      "source": [
        "Reading the json file"
      ],
      "metadata": {
        "id": "uQJmic9_TqPB"
      }
    },
    {
      "cell_type": "code",
      "execution_count": 27,
      "source": [
        "fd = open(\"record.json\",'r')\r\n",
        "r = fd.read()\r\n",
        "fd.close()\r\n",
        "\r\n",
        "record = json.loads(r)"
      ],
      "outputs": [],
      "metadata": {
        "id": "70rmKCsPNz_T"
      }
    },
    {
      "cell_type": "markdown",
      "source": [
        "Importing **Req Libraries**"
      ],
      "metadata": {
        "id": "GjXbzL9erahR"
      }
    },
    {
      "cell_type": "code",
      "execution_count": 28,
      "source": [
        "import pandas as pd\r\n",
        "from IPython.display import display"
      ],
      "outputs": [],
      "metadata": {
        "id": "HI4yaaQxo6zp"
      }
    },
    {
      "cell_type": "markdown",
      "source": [
        "**Access management**"
      ],
      "metadata": {
        "id": "81DB1PEhT4gS"
      }
    },
    {
      "cell_type": "code",
      "execution_count": 41,
      "source": [
        "user_id,password_id = \"anupama\",2278\r\n",
        "\r\n",
        "role=input(\"Enter your role : \")\r\n",
        "if role==\"admin\" :\r\n",
        "    user=input(\"Enter Username : \")\r\n",
        "    password = int(input(\"Enter Password : \"))\r\n",
        "    while(True):\r\n",
        "      if ( user==user_id and password==password_id ):\r\n",
        "          print(\"You've successfully logged in as Admin...\")\r\n",
        "          add_del=input(\"Do you want to add or delete : \")\r\n",
        "          if add_del == \"add\" :\r\n",
        "              prod_id = str(input(\"Enter product id that need to be added : \"))\r\n",
        "              name = str(input(\"Enter name of the product : \"))\r\n",
        "              pr = int(input(\"Enter price of the product : \"))\r\n",
        "              qn = int(input(\"Enter quantity of the product : \"))\r\n",
        "              record[prod_id] = {'name': name, 'pr': pr, 'qn': qn}\r\n",
        "              js_add = json.dumps(record)\r\n",
        "              fd = open(\"record.json\",'w')\r\n",
        "              fd.write(js_add)\r\n",
        "              fd.close()\r\n",
        "              print(\"Congratulations, you've successfully added the Item...\")\r\n",
        "              repeat_admin=input(\"Do you want to add or delete a file again? Enter Yes or No: \")\r\n",
        "              if( repeat_admin == \"Yes\" ):\r\n",
        "                continue\r\n",
        "              elif( repeat_admin == \"No\" ):\r\n",
        "                print(\"Thank you for logging in!!\")\r\n",
        "                break\r\n",
        "          elif add_del == \"delete\" :\r\n",
        "              ask_user = input(\"Do you want to view the Dataset? Enter Yes or No: \")\r\n",
        "              if(ask_user == \"Yes\"):\r\n",
        "                ds = pd.DataFrame(record)\r\n",
        "                print(\"The Record View : \")\r\n",
        "                display(ds.transpose())\r\n",
        "              elif(ask_user == \"No\"):\r\n",
        "                print(\"Okay, no issues\")\r\n",
        "              product_id = str(input(\"Enter product id: \"))\r\n",
        "              del record[product_id]\r\n",
        "              js_del = json.dumps(record)\r\n",
        "              fd = open(\"record.json\",'w')\r\n",
        "              fd.write(js_del)\r\n",
        "              fd.close()\r\n",
        "              print(\"You've successfully deleted the Item...\")\r\n",
        "              repeat_user=input(\"Do you want to add or delete a file again? Enter Yes or No: \")\r\n",
        "              if( repeat_user == \"Yes\" ):\r\n",
        "                continue\r\n",
        "              elif( repeat_user == \"No\" ):\r\n",
        "                print(\"Thank you for logging in\")\r\n",
        "                break\r\n",
        "          else :\r\n",
        "              print(\"please enter valid Text..\")\r\n",
        "      else :\r\n",
        "        print(\"Invalid Credentials...\")\r\n",
        "        break\r\n",
        "elif role==\"purchaser\":\r\n",
        "    print(\"Hello Purchaser....\")\r\n",
        "    #print records using pandas to display the list of items\r\n",
        "    ask_purchaser = input(\"Do you want to view the Dataset? Enter Yes or No: \")\r\n",
        "    if(ask_purchaser == \"Yes\"):\r\n",
        "      ds = pd.DataFrame(record)\r\n",
        "      print(\"The Record View : \")\r\n",
        "      display(ds.transpose())\r\n",
        "    elif(ask_purchaser == \"No\"):\r\n",
        "      print(\"Okay, no issues\")\r\n",
        "    ui_prod  = str(input(\"Enter the product_Id of the item you want to purchase: \"))\r\n",
        "    ui_quant = int(input(\"Enter the quantity : \"))\r\n",
        "    if(ui_quant > record[ui_prod]['qn']) :\r\n",
        "          print(\"Entered quantity is out of range...\")\r\n",
        "    else :\r\n",
        "      print(\"-----------------------------------\")\r\n",
        "      print(\"Product: \", record[ui_prod]['name'])\r\n",
        "      print(\"Price: \", record[ui_prod]['pr'])\r\n",
        "      print(\"-----------------------------------\")\r\n",
        "      print(\"Billing Amount: \", record[ui_prod]['pr'] * ui_quant)\r\n",
        "\r\n",
        "      record[ui_prod]['qn'] = record[ui_prod]['qn'] - ui_quant\r\n",
        "      js = json.dumps(record)\r\n",
        "      fd = open(\"record.json\",'w')\r\n",
        "      fd.write(js)\r\n",
        "      fd.close()\r\n"
      ],
      "outputs": [
        {
          "output_type": "stream",
          "name": "stdout",
          "text": [
            "Hello Purchaser....\n",
            "The Record View : \n"
          ]
        },
        {
          "output_type": "display_data",
          "data": {
            "text/html": [
              "<div>\n",
              "<style scoped>\n",
              "    .dataframe tbody tr th:only-of-type {\n",
              "        vertical-align: middle;\n",
              "    }\n",
              "\n",
              "    .dataframe tbody tr th {\n",
              "        vertical-align: top;\n",
              "    }\n",
              "\n",
              "    .dataframe thead th {\n",
              "        text-align: right;\n",
              "    }\n",
              "</style>\n",
              "<table border=\"1\" class=\"dataframe\">\n",
              "  <thead>\n",
              "    <tr style=\"text-align: right;\">\n",
              "      <th></th>\n",
              "      <th>name</th>\n",
              "      <th>pr</th>\n",
              "      <th>qn</th>\n",
              "    </tr>\n",
              "  </thead>\n",
              "  <tbody>\n",
              "    <tr>\n",
              "      <th>1001</th>\n",
              "      <td>wafer</td>\n",
              "      <td>20</td>\n",
              "      <td>980</td>\n",
              "    </tr>\n",
              "    <tr>\n",
              "      <th>1002</th>\n",
              "      <td>Drink</td>\n",
              "      <td>85</td>\n",
              "      <td>200</td>\n",
              "    </tr>\n",
              "    <tr>\n",
              "      <th>1003</th>\n",
              "      <td>Candy</td>\n",
              "      <td>5</td>\n",
              "      <td>1000</td>\n",
              "    </tr>\n",
              "    <tr>\n",
              "      <th>1004</th>\n",
              "      <td>brown rice</td>\n",
              "      <td>2000</td>\n",
              "      <td>300</td>\n",
              "    </tr>\n",
              "    <tr>\n",
              "      <th>1005</th>\n",
              "      <td>pasta</td>\n",
              "      <td>200</td>\n",
              "      <td>100</td>\n",
              "    </tr>\n",
              "    <tr>\n",
              "      <th>1006</th>\n",
              "      <td>eggs[dozen]</td>\n",
              "      <td>89</td>\n",
              "      <td>1000</td>\n",
              "    </tr>\n",
              "    <tr>\n",
              "      <th>1007</th>\n",
              "      <td>dark chocolate</td>\n",
              "      <td>599</td>\n",
              "      <td>500</td>\n",
              "    </tr>\n",
              "    <tr>\n",
              "      <th>1008</th>\n",
              "      <td>donut</td>\n",
              "      <td>150</td>\n",
              "      <td>300</td>\n",
              "    </tr>\n",
              "    <tr>\n",
              "      <th>1009</th>\n",
              "      <td>ice-cream</td>\n",
              "      <td>280</td>\n",
              "      <td>100</td>\n",
              "    </tr>\n",
              "    <tr>\n",
              "      <th>1010</th>\n",
              "      <td>shoes</td>\n",
              "      <td>2800</td>\n",
              "      <td>200</td>\n",
              "    </tr>\n",
              "    <tr>\n",
              "      <th>1011</th>\n",
              "      <td>clock</td>\n",
              "      <td>299</td>\n",
              "      <td>300</td>\n",
              "    </tr>\n",
              "    <tr>\n",
              "      <th>1012</th>\n",
              "      <td>almonds</td>\n",
              "      <td>299</td>\n",
              "      <td>50</td>\n",
              "    </tr>\n",
              "    <tr>\n",
              "      <th>1013</th>\n",
              "      <td>cake</td>\n",
              "      <td>300</td>\n",
              "      <td>100</td>\n",
              "    </tr>\n",
              "    <tr>\n",
              "      <th>1014</th>\n",
              "      <td>cookie</td>\n",
              "      <td>50</td>\n",
              "      <td>250</td>\n",
              "    </tr>\n",
              "    <tr>\n",
              "      <th>1015</th>\n",
              "      <td>milk</td>\n",
              "      <td>79</td>\n",
              "      <td>500</td>\n",
              "    </tr>\n",
              "    <tr>\n",
              "      <th>1016</th>\n",
              "      <td>cheese</td>\n",
              "      <td>299</td>\n",
              "      <td>450</td>\n",
              "    </tr>\n",
              "    <tr>\n",
              "      <th>1017</th>\n",
              "      <td>corn flakes</td>\n",
              "      <td>399</td>\n",
              "      <td>400</td>\n",
              "    </tr>\n",
              "    <tr>\n",
              "      <th>1018</th>\n",
              "      <td>bread</td>\n",
              "      <td>199</td>\n",
              "      <td>2000</td>\n",
              "    </tr>\n",
              "    <tr>\n",
              "      <th>1019</th>\n",
              "      <td>honey</td>\n",
              "      <td>200</td>\n",
              "      <td>59</td>\n",
              "    </tr>\n",
              "    <tr>\n",
              "      <th>1020</th>\n",
              "      <td>peanut butter</td>\n",
              "      <td>599</td>\n",
              "      <td>NaN</td>\n",
              "    </tr>\n",
              "    <tr>\n",
              "      <th>1021</th>\n",
              "      <td>coffee powder</td>\n",
              "      <td>150</td>\n",
              "      <td>NaN</td>\n",
              "    </tr>\n",
              "    <tr>\n",
              "      <th>1022</th>\n",
              "      <td>milk shake</td>\n",
              "      <td>69</td>\n",
              "      <td>2000</td>\n",
              "    </tr>\n",
              "    <tr>\n",
              "      <th>1023</th>\n",
              "      <td>lemonade</td>\n",
              "      <td>59</td>\n",
              "      <td>2000</td>\n",
              "    </tr>\n",
              "    <tr>\n",
              "      <th>1024</th>\n",
              "      <td>water bottle</td>\n",
              "      <td>29</td>\n",
              "      <td>2000</td>\n",
              "    </tr>\n",
              "    <tr>\n",
              "      <th>1025</th>\n",
              "      <td>Chocolate candy</td>\n",
              "      <td>19</td>\n",
              "      <td>1000</td>\n",
              "    </tr>\n",
              "    <tr>\n",
              "      <th>1026</th>\n",
              "      <td>candy bar</td>\n",
              "      <td>10</td>\n",
              "      <td>10000</td>\n",
              "    </tr>\n",
              "    <tr>\n",
              "      <th>1027</th>\n",
              "      <td>apple pie</td>\n",
              "      <td>199</td>\n",
              "      <td>500</td>\n",
              "    </tr>\n",
              "    <tr>\n",
              "      <th>1028</th>\n",
              "      <td>pizza</td>\n",
              "      <td>399</td>\n",
              "      <td>500</td>\n",
              "    </tr>\n",
              "    <tr>\n",
              "      <th>1029</th>\n",
              "      <td>pancake</td>\n",
              "      <td>295</td>\n",
              "      <td>40</td>\n",
              "    </tr>\n",
              "    <tr>\n",
              "      <th>1030</th>\n",
              "      <td>biscuits</td>\n",
              "      <td>25</td>\n",
              "      <td>1000</td>\n",
              "    </tr>\n",
              "    <tr>\n",
              "      <th>1031</th>\n",
              "      <td>oats</td>\n",
              "      <td>200</td>\n",
              "      <td>299</td>\n",
              "    </tr>\n",
              "  </tbody>\n",
              "</table>\n",
              "</div>"
            ],
            "text/plain": [
              "                 name    pr     qn\n",
              "1001            wafer    20    980\n",
              "1002            Drink    85    200\n",
              "1003            Candy     5   1000\n",
              "1004       brown rice  2000    300\n",
              "1005            pasta   200    100\n",
              "1006      eggs[dozen]    89   1000\n",
              "1007   dark chocolate   599    500\n",
              "1008            donut   150    300\n",
              "1009        ice-cream   280    100\n",
              "1010            shoes  2800    200\n",
              "1011            clock   299    300\n",
              "1012          almonds   299     50\n",
              "1013             cake   300    100\n",
              "1014           cookie    50    250\n",
              "1015             milk    79    500\n",
              "1016           cheese   299    450\n",
              "1017      corn flakes   399    400\n",
              "1018            bread   199   2000\n",
              "1019            honey   200     59\n",
              "1020    peanut butter   599    NaN\n",
              "1021    coffee powder   150    NaN\n",
              "1022       milk shake    69   2000\n",
              "1023         lemonade    59   2000\n",
              "1024     water bottle    29   2000\n",
              "1025  Chocolate candy    19   1000\n",
              "1026        candy bar    10  10000\n",
              "1027        apple pie   199    500\n",
              "1028            pizza   399    500\n",
              "1029          pancake   295     40\n",
              "1030         biscuits    25   1000\n",
              "1031             oats   200    299"
            ]
          },
          "metadata": {}
        },
        {
          "output_type": "stream",
          "name": "stdout",
          "text": [
            "-----------------------------------\n",
            "Product:  shoes\n",
            "Price:  2800\n",
            "-----------------------------------\n",
            "Billing Amount:  8400\n"
          ]
        }
      ],
      "metadata": {
        "id": "qUzTyOY-LSAZ",
        "colab": {
          "base_uri": "https://localhost:8080/"
        },
        "outputId": "c5f9ce46-cb5d-4bb8-8ce6-b4b39c8b4b2d"
      }
    },
    {
      "cell_type": "code",
      "execution_count": 42,
      "source": [
        "from datetime import datetime\r\n",
        "now_method = datetime.now()\r\n",
        "currentTime = now_method.strftime(\"%H:%M:%S\")"
      ],
      "outputs": [],
      "metadata": {}
    },
    {
      "cell_type": "code",
      "execution_count": 43,
      "source": [
        "sales={ui_prod : {'qn' : ui_quant, 'amount gained': record[ui_prod]['pr'] * ui_quant, 'time': currentTime}}"
      ],
      "outputs": [],
      "metadata": {}
    },
    {
      "cell_type": "code",
      "execution_count": 14,
      "source": [
        "js_sale = json.dumps(sales)\r\n",
        "\r\n",
        "fd = open(\"sales.json\",'w')\r\n",
        "fd.write(js_sale)\r\n",
        "fd.close()"
      ],
      "outputs": [],
      "metadata": {}
    },
    {
      "cell_type": "code",
      "execution_count": 44,
      "source": [
        "with open(\"sales.json\", \"r+\") as file:\r\n",
        "\r\n",
        "    data = json.load(file)\r\n",
        "\r\n",
        "    data.update(sales)\r\n",
        "\r\n",
        "    file.seek(0)\r\n",
        "\r\n",
        "    json.dump(data, file)"
      ],
      "outputs": [],
      "metadata": {}
    }
  ]
}